{
 "cells": [
  {
   "cell_type": "markdown",
   "metadata": {},
   "source": [
    "# Object-Oriented-Programming (OOP)"
   ]
  },
  {
   "cell_type": "markdown",
   "metadata": {},
   "source": [
    "## Tasks Today:\n",
    "\n",
    "   \n",
    "\n",
    "1) <b>Creating a Class (Initializing/Declaring)</b> <br>\n",
    "2) <b>Using a Class (Instantiating)</b> <br>\n",
    " &nbsp;&nbsp;&nbsp;&nbsp; a) Creating One Instance <br>\n",
    " &nbsp;&nbsp;&nbsp;&nbsp; b) Creating Multiple Instances <br>\n",
    " &nbsp;&nbsp;&nbsp;&nbsp; c) In-Class Exercise #1 - Create a Class 'Car' and instantiate three different makes of cars <br>\n",
    "3) <b>The \\__init\\__() Method</b> <br>\n",
    " &nbsp;&nbsp;&nbsp;&nbsp; a) The 'self' Attribute <br>\n",
    "4) <b>Class Attributes</b> <br>\n",
    " &nbsp;&nbsp;&nbsp;&nbsp; a) Initializing Attributes <br>\n",
    " &nbsp;&nbsp;&nbsp;&nbsp; b) Setting an Attribute Outside of the \\__init\\__() Method <br>\n",
    " &nbsp;&nbsp;&nbsp;&nbsp; c) Setting Defaults for Attributes <br>\n",
    " &nbsp;&nbsp;&nbsp;&nbsp; d) Accessing Class Attributes <br>\n",
    " &nbsp;&nbsp;&nbsp;&nbsp; e) Changing Class Attributes <br>\n",
    " &nbsp;&nbsp;&nbsp;&nbsp; f) In-Class Exercise #2 - Add a color and wheels attribute to your 'Car' class <br>\n",
    "5) <b>Class Methods</b> <br>\n",
    " &nbsp;&nbsp;&nbsp;&nbsp; a) Creating <br>\n",
    " &nbsp;&nbsp;&nbsp;&nbsp; b) Calling <br>\n",
    " &nbsp;&nbsp;&nbsp;&nbsp; c) Modifying an Attribute's Value Through a Method <br>\n",
    " &nbsp;&nbsp;&nbsp;&nbsp; d) Incrementing an Attribute's Value Through a Method <br>\n",
    " &nbsp;&nbsp;&nbsp;&nbsp; e) In-Class Exercise #3 - Add a method that prints the cars color and wheel number, then call them <br>\n",
    "6) <b>Inheritance</b> <br>\n",
    " &nbsp;&nbsp;&nbsp;&nbsp; a) Syntax for Inheriting from a Parent Class <br>\n",
    " &nbsp;&nbsp;&nbsp;&nbsp; b) The \\__init\\__() Method for a Child Class (super()) <br>\n",
    " &nbsp;&nbsp;&nbsp;&nbsp; c) Defining Attributes and Methods for the Child Class <br>\n",
    " &nbsp;&nbsp;&nbsp;&nbsp; d) Method Overriding <br>\n",
    " &nbsp;&nbsp;&nbsp;&nbsp; e) In-Class Exercise #4 - Create a class 'Ford' that inherits from 'Car' class and initialize it as a Blue Ford Explorer with 4 wheels using the super() method <br>\n",
    "7) <b>Classes as Attributes</b> <br>\n",
    "8) <b>Exercises</b> <br>\n",
    " &nbsp;&nbsp;&nbsp;&nbsp; a) Exercise #1 - Turn the shopping cart program from yesterday into an object-oriented program <br>"
   ]
  },
  {
   "cell_type": "markdown",
   "metadata": {},
   "source": [
    "## Creating a Class (Initializing/Declaring)\n",
    "<p>When creating a class, function, or even a variable you are initializing that object. Initializing and Declaring occur at the same time in Python, whereas in lower level languages you have to declare an object before initializing it. This is the first step in the process of using a class.</p>"
   ]
  },
  {
   "cell_type": "code",
   "execution_count": 2,
   "metadata": {},
   "outputs": [],
   "source": [
    "class Car():\n",
    "    wheels = 4\n",
    "    color = 'blue'"
   ]
  },
  {
   "cell_type": "markdown",
   "metadata": {},
   "source": [
    "## Using a Class (Instantiating)\n",
    "<p>The process of creating a class is called <i>Instantiating</i>. Each time you create a variable of that type of class, it is referred to as an <i>Instance</i> of that class. This is the second step in the process of using a class.</p>"
   ]
  },
  {
   "cell_type": "markdown",
   "metadata": {},
   "source": [
    "##### Creating One Instance"
   ]
  },
  {
   "cell_type": "code",
   "execution_count": 3,
   "metadata": {},
   "outputs": [],
   "source": [
    "ford = Car()"
   ]
  },
  {
   "cell_type": "markdown",
   "metadata": {},
   "source": [
    "##### Creating Multiple Instances"
   ]
  },
  {
   "cell_type": "code",
   "execution_count": null,
   "metadata": {},
   "outputs": [],
   "source": []
  },
  {
   "cell_type": "markdown",
   "metadata": {},
   "source": [
    "##### In-Class Exercise #1 - Create a Class 'Car' and Instantiate three different makes of cars"
   ]
  },
  {
   "cell_type": "code",
   "execution_count": null,
   "metadata": {},
   "outputs": [],
   "source": []
  },
  {
   "cell_type": "markdown",
   "metadata": {},
   "source": [
    "## The \\__init\\__() Method <br>\n",
    "<p>This method is used in almost every created class, and called only once upon the creation of the class instance. This method will initialize all variables needed for the object.</p>"
   ]
  },
  {
   "cell_type": "code",
   "execution_count": null,
   "metadata": {},
   "outputs": [],
   "source": []
  },
  {
   "cell_type": "markdown",
   "metadata": {},
   "source": [
    "##### The 'self' Attribute <br>\n",
    "<p>This attribute is required to keep track of specific instance's attributes. Without the self attribute, the program would not know how to reference or keep track of an instance's attributes.</p>"
   ]
  },
  {
   "cell_type": "code",
   "execution_count": 4,
   "metadata": {},
   "outputs": [],
   "source": [
    "# see above"
   ]
  },
  {
   "cell_type": "markdown",
   "metadata": {},
   "source": [
    "## Class Attributes <br>\n",
    "<p>While variables are inside of a class, they are referred to as attributes and not variables. When someone says 'attribute' you know they're speaking about a class. Attributes can be initialized through the init method, or outside of it.</p>"
   ]
  },
  {
   "cell_type": "markdown",
   "metadata": {},
   "source": [
    "##### Initializing Attributes"
   ]
  },
  {
   "cell_type": "code",
   "execution_count": 5,
   "metadata": {},
   "outputs": [],
   "source": [
    "# see above"
   ]
  },
  {
   "cell_type": "markdown",
   "metadata": {},
   "source": [
    "##### Accessing Class Attributes"
   ]
  },
  {
   "cell_type": "code",
   "execution_count": 6,
   "metadata": {
    "scrolled": true
   },
   "outputs": [],
   "source": [
    "# See Above"
   ]
  },
  {
   "cell_type": "markdown",
   "metadata": {},
   "source": [
    "##### Setting Defaults for Attributes"
   ]
  },
  {
   "cell_type": "code",
   "execution_count": null,
   "metadata": {},
   "outputs": [],
   "source": []
  },
  {
   "attachments": {},
   "cell_type": "markdown",
   "metadata": {},
   "source": [
    "##### Changing Instance Attributes <br>\n",
    "<p>Keep in mind there are global class attributes and then there are attributes only available to each class instance which won't effect other classes.</p>"
   ]
  },
  {
   "cell_type": "code",
   "execution_count": 7,
   "metadata": {},
   "outputs": [],
   "source": [
    "# see above"
   ]
  },
  {
   "cell_type": "markdown",
   "metadata": {},
   "source": [
    "##### In-Class Exercise #2 - Add a doors and seats attribute to your 'Car' class then print out two different instances with different doors and seats"
   ]
  },
  {
   "cell_type": "code",
   "execution_count": 8,
   "metadata": {},
   "outputs": [
    {
     "name": "stdout",
     "output_type": "stream",
     "text": [
      "This Car has one door and wooden seats\n"
     ]
    }
   ],
   "source": [
    "class Car():\n",
    "    def __init__(self, door, seat):\n",
    "        self.door = door\n",
    "        self.seat = seat\n",
    "    def print_car(self):\n",
    "        print(f'This Car has {self.door} and {self.seat}')\n",
    "mazda = Car('four door', 'leather seats')\n",
    "lexus = Car('one door', 'wooden seats')\n",
    "\n",
    "lexus.print_car()"
   ]
  },
  {
   "cell_type": "markdown",
   "metadata": {},
   "source": [
    "## Class Methods <br>\n",
    "<p>While inside of a class, functions are referred to as 'methods'. If you hear someone mention methods, they're speaking about classes. Methods are essentially functions, but only callable on the instances of a class.</p>"
   ]
  },
  {
   "cell_type": "markdown",
   "metadata": {},
   "source": [
    "##### Creating"
   ]
  },
  {
   "cell_type": "code",
   "execution_count": 9,
   "metadata": {},
   "outputs": [
    {
     "ename": "ValueError",
     "evalue": "invalid literal for int() with base 10: ''",
     "output_type": "error",
     "traceback": [
      "\u001b[1;31m---------------------------------------------------------------------------\u001b[0m",
      "\u001b[1;31mValueError\u001b[0m                                Traceback (most recent call last)",
      "Cell \u001b[1;32mIn[9], line 45\u001b[0m\n\u001b[0;32m     42\u001b[0m                 \u001b[39mprint\u001b[39m(\u001b[39m'\u001b[39m\u001b[39mType a valid\u001b[39m\u001b[39m'\u001b[39m)\n\u001b[0;32m     44\u001b[0m team1 \u001b[39m=\u001b[39m Roster(\u001b[39m'\u001b[39m\u001b[39mLA\u001b[39m\u001b[39m'\u001b[39m, \u001b[39m'\u001b[39m\u001b[39mLakers\u001b[39m\u001b[39m'\u001b[39m)\n\u001b[1;32m---> 45\u001b[0m team1\u001b[39m.\u001b[39;49mrunner()\n",
      "Cell \u001b[1;32mIn[9], line 32\u001b[0m, in \u001b[0;36mRoster.runner\u001b[1;34m(self)\u001b[0m\n\u001b[0;32m     30\u001b[0m \u001b[39mdef\u001b[39;00m \u001b[39mrunner\u001b[39m(\u001b[39mself\u001b[39m):\n\u001b[0;32m     31\u001b[0m     \u001b[39mwhile\u001b[39;00m \u001b[39mTrue\u001b[39;00m:\n\u001b[1;32m---> 32\u001b[0m         option \u001b[39m=\u001b[39m \u001b[39mint\u001b[39;49m(\u001b[39minput\u001b[39;49m(\u001b[39m'\u001b[39;49m\u001b[39mEnter | 1: add | 2: Delete | 3: Show | 4: Exit\u001b[39;49m\u001b[39m'\u001b[39;49m))\n\u001b[0;32m     33\u001b[0m         \u001b[39mif\u001b[39;00m option \u001b[39m==\u001b[39m \u001b[39m1\u001b[39m:\n\u001b[0;32m     34\u001b[0m             \u001b[39mself\u001b[39m\u001b[39m.\u001b[39madd_player\n",
      "\u001b[1;31mValueError\u001b[0m: invalid literal for int() with base 10: ''"
     ]
    }
   ],
   "source": [
    "class Roster():\n",
    "    def __init__(self, city, team, country = 'United States'):\n",
    "        self.city = city\n",
    "        self.team = team\n",
    "        self.country = country\n",
    "        self.depth_chart = {}\n",
    "        self.number_of_players = 0\n",
    "\n",
    "    def add_player(self):\n",
    "        name = str(input(\"Player Name?: \"))\n",
    "        number = int(input(f\"What is {name}'s number?: \"))\n",
    "        self.depth_chart[name] = number\n",
    "        self.number_of_players += 1\n",
    "        print(f\"{name} has been added to the {self.team} from {self.city}\")\n",
    "        print(f\"your current roster is {self.depth_chart}\")\n",
    "    \n",
    "    def delete_player(self):\n",
    "        name = str(input('Who do you want to delete?'))\n",
    "        if name in self.depth_chart:\n",
    "            print(f'{name} has been removed.')\n",
    "            del self.depth_chart[name]\n",
    "        else:\n",
    "            print(f'{name} is not on the team.')\n",
    "\n",
    "    def show_players(self):\n",
    "        print(f'There are {self.number_of_players} on the Team')\n",
    "        for k,v in self.depth_chart.items():\n",
    "            print(k,v)\n",
    "    \n",
    "    def runner(self):\n",
    "        while True:\n",
    "            option = int(input('Enter | 1: add | 2: Delete | 3: Show | 4: Exit'))\n",
    "            if option == 1:\n",
    "                self.add_player()\n",
    "            elif option == 2:\n",
    "                self.delete_player()\n",
    "            elif option == 3:\n",
    "                self.show_players()\n",
    "            elif option == 4:\n",
    "                break\n",
    "            else:\n",
    "                print('Type a valid')\n",
    "\n",
    "team1 = Roster('LA', 'Lakers')\n",
    "team1.runner()\n",
    "\n",
    "\n"
   ]
  },
  {
   "cell_type": "markdown",
   "metadata": {},
   "source": [
    "##### Calling"
   ]
  },
  {
   "cell_type": "code",
   "execution_count": null,
   "metadata": {},
   "outputs": [],
   "source": [
    "# See Above"
   ]
  },
  {
   "cell_type": "markdown",
   "metadata": {},
   "source": [
    "##### Modifying an Attribute's Value Through a Method"
   ]
  },
  {
   "cell_type": "code",
   "execution_count": null,
   "metadata": {},
   "outputs": [],
   "source": [
    "# see above\n",
    "# modifying the self.depth_chart attribute"
   ]
  },
  {
   "cell_type": "markdown",
   "metadata": {},
   "source": [
    "##### Incrementing an Attribute's Value Through a Method"
   ]
  },
  {
   "cell_type": "code",
   "execution_count": null,
   "metadata": {},
   "outputs": [],
   "source": [
    "# see above\n",
    "# incrementing the self.number_of_players attribute"
   ]
  },
  {
   "cell_type": "markdown",
   "metadata": {},
   "source": [
    "## Inheritance <br>\n",
    "<p>You can create a child-parent relationship between two classes by using inheritance. What this allows you to do is have overriding methods, but also inherit traits from the parent class. Think of it as an actual parent and child, the child will inherit the parent's genes, as will the classes in OOP</p>"
   ]
  },
  {
   "cell_type": "markdown",
   "metadata": {},
   "source": [
    "##### Syntax for Inheriting from a Parent Class"
   ]
  },
  {
   "cell_type": "code",
   "execution_count": null,
   "metadata": {},
   "outputs": [],
   "source": []
  },
  {
   "cell_type": "markdown",
   "metadata": {},
   "source": [
    "##### The \\__init\\__() Method for a Child Class - super()"
   ]
  },
  {
   "cell_type": "code",
   "execution_count": null,
   "metadata": {
    "scrolled": true
   },
   "outputs": [],
   "source": [
    "# see above"
   ]
  },
  {
   "cell_type": "markdown",
   "metadata": {},
   "source": [
    "##### Defining Attributes and Methods for the Child Class"
   ]
  },
  {
   "cell_type": "code",
   "execution_count": null,
   "metadata": {},
   "outputs": [],
   "source": [
    "# See Above"
   ]
  },
  {
   "cell_type": "markdown",
   "metadata": {},
   "source": [
    "## Classes as Attributes <br>\n",
    "<p>Classes can also be used as attributes within another class. This is useful in situations where you need to keep variables locally stored, instead of globally stored.</p>"
   ]
  },
  {
   "cell_type": "code",
   "execution_count": null,
   "metadata": {},
   "outputs": [],
   "source": []
  },
  {
   "cell_type": "markdown",
   "metadata": {},
   "source": [
    "# Exercises"
   ]
  },
  {
   "cell_type": "markdown",
   "metadata": {},
   "source": [
    "### Exercise 1 - Turn the shopping cart program from yesterday into an object-oriented program\n",
    "\n",
    "The comments in the cell below are there as a guide for thinking about the problem. However, if you feel a different way is best for you and your own thought process, please do what feels best for you by all means."
   ]
  },
  {
   "cell_type": "code",
   "execution_count": 11,
   "metadata": {},
   "outputs": [
    {
     "name": "stdout",
     "output_type": "stream",
     "text": [
      "     | Luke's MENU |\n",
      "|--------Burgers--------\n",
      "| 1: ('Classic', 100)\n",
      "| 2: ('Diablo', 100)\n",
      "|--------Sides---------\n",
      "| 3: ('Fries', 10)\n",
      "| 4: ('Salad', 10)\n",
      "|\n",
      "| 5: Back\n",
      "\n",
      "\n",
      "Classic added!\n",
      "\n",
      "     | Luke's MENU |\n",
      "|--------Burgers--------\n",
      "| 1: ('Classic', 100)\n",
      "| 2: ('Diablo', 100)\n",
      "|--------Sides---------\n",
      "| 3: ('Fries', 10)\n",
      "| 4: ('Salad', 10)\n",
      "|\n",
      "| 5: Back\n",
      "\n",
      "\n",
      "Fries added!\n",
      "\n",
      "\n",
      "----Your Cart-----\n",
      "| Item: Classic  Price: $100\n",
      "| Item: Fries  Price: $10\n",
      "\n",
      "Total = $110\n",
      "\n",
      "\n",
      "Fries removed!\n",
      "\n"
     ]
    },
    {
     "ename": "ValueError",
     "evalue": "invalid literal for int() with base 10: ''",
     "output_type": "error",
     "traceback": [
      "\u001b[1;31m---------------------------------------------------------------------------\u001b[0m",
      "\u001b[1;31mValueError\u001b[0m                                Traceback (most recent call last)",
      "Cell \u001b[1;32mIn[11], line 90\u001b[0m\n\u001b[0;32m     87\u001b[0m                 \u001b[39mprint\u001b[39m(\u001b[39m'\u001b[39m\u001b[39mPlease enter a valid number\u001b[39m\u001b[39m'\u001b[39m)\n\u001b[0;32m     89\u001b[0m luke_burger \u001b[39m=\u001b[39m Shop()\n\u001b[1;32m---> 90\u001b[0m luke_burger\u001b[39m.\u001b[39;49mrunner()\n",
      "Cell \u001b[1;32mIn[11], line 80\u001b[0m, in \u001b[0;36mShop.runner\u001b[1;34m(self)\u001b[0m\n\u001b[0;32m     78\u001b[0m     \u001b[39mself\u001b[39m\u001b[39m.\u001b[39mshow_menu()\n\u001b[0;32m     79\u001b[0m     \u001b[39mprint\u001b[39m(\u001b[39m'\u001b[39m\u001b[39m|\u001b[39m\u001b[39m\\n\u001b[39;00m\u001b[39m| 5: Back\u001b[39m\u001b[39m\\n\u001b[39;00m\u001b[39m'\u001b[39m)\n\u001b[1;32m---> 80\u001b[0m     \u001b[39mself\u001b[39;49m\u001b[39m.\u001b[39;49madd_item()\n\u001b[0;32m     81\u001b[0m \u001b[39melif\u001b[39;00m option \u001b[39m==\u001b[39m \u001b[39m3\u001b[39m:\n\u001b[0;32m     82\u001b[0m     \u001b[39mself\u001b[39m\u001b[39m.\u001b[39mshow_cart()\n",
      "Cell \u001b[1;32mIn[11], line 49\u001b[0m, in \u001b[0;36mShop.add_item\u001b[1;34m(self)\u001b[0m\n\u001b[0;32m     47\u001b[0m     \u001b[39mprint\u001b[39m(\u001b[39m'\u001b[39m\u001b[39mPlease enter a valid number\u001b[39m\u001b[39m'\u001b[39m)\n\u001b[0;32m     48\u001b[0m \u001b[39mprint\u001b[39m(\u001b[39mf\u001b[39m\u001b[39m'\u001b[39m\u001b[39m\\n\u001b[39;00m\u001b[39m{\u001b[39;00mitem\u001b[39m}\u001b[39;00m\u001b[39m added!\u001b[39m\u001b[39m\\n\u001b[39;00m\u001b[39m'\u001b[39m)\n\u001b[1;32m---> 49\u001b[0m \u001b[39mself\u001b[39;49m\u001b[39m.\u001b[39;49mrunner()\n",
      "Cell \u001b[1;32mIn[11], line 80\u001b[0m, in \u001b[0;36mShop.runner\u001b[1;34m(self)\u001b[0m\n\u001b[0;32m     78\u001b[0m     \u001b[39mself\u001b[39m\u001b[39m.\u001b[39mshow_menu()\n\u001b[0;32m     79\u001b[0m     \u001b[39mprint\u001b[39m(\u001b[39m'\u001b[39m\u001b[39m|\u001b[39m\u001b[39m\\n\u001b[39;00m\u001b[39m| 5: Back\u001b[39m\u001b[39m\\n\u001b[39;00m\u001b[39m'\u001b[39m)\n\u001b[1;32m---> 80\u001b[0m     \u001b[39mself\u001b[39;49m\u001b[39m.\u001b[39;49madd_item()\n\u001b[0;32m     81\u001b[0m \u001b[39melif\u001b[39;00m option \u001b[39m==\u001b[39m \u001b[39m3\u001b[39m:\n\u001b[0;32m     82\u001b[0m     \u001b[39mself\u001b[39m\u001b[39m.\u001b[39mshow_cart()\n",
      "Cell \u001b[1;32mIn[11], line 49\u001b[0m, in \u001b[0;36mShop.add_item\u001b[1;34m(self)\u001b[0m\n\u001b[0;32m     47\u001b[0m     \u001b[39mprint\u001b[39m(\u001b[39m'\u001b[39m\u001b[39mPlease enter a valid number\u001b[39m\u001b[39m'\u001b[39m)\n\u001b[0;32m     48\u001b[0m \u001b[39mprint\u001b[39m(\u001b[39mf\u001b[39m\u001b[39m'\u001b[39m\u001b[39m\\n\u001b[39;00m\u001b[39m{\u001b[39;00mitem\u001b[39m}\u001b[39;00m\u001b[39m added!\u001b[39m\u001b[39m\\n\u001b[39;00m\u001b[39m'\u001b[39m)\n\u001b[1;32m---> 49\u001b[0m \u001b[39mself\u001b[39;49m\u001b[39m.\u001b[39;49mrunner()\n",
      "Cell \u001b[1;32mIn[11], line 83\u001b[0m, in \u001b[0;36mShop.runner\u001b[1;34m(self)\u001b[0m\n\u001b[0;32m     81\u001b[0m \u001b[39melif\u001b[39;00m option \u001b[39m==\u001b[39m \u001b[39m3\u001b[39m:\n\u001b[0;32m     82\u001b[0m     \u001b[39mself\u001b[39m\u001b[39m.\u001b[39mshow_cart()\n\u001b[1;32m---> 83\u001b[0m     \u001b[39mself\u001b[39;49m\u001b[39m.\u001b[39;49mremove_item()\n\u001b[0;32m     84\u001b[0m \u001b[39melif\u001b[39;00m option \u001b[39m==\u001b[39m \u001b[39m4\u001b[39m:\n\u001b[0;32m     85\u001b[0m     exit()\n",
      "Cell \u001b[1;32mIn[11], line 70\u001b[0m, in \u001b[0;36mShop.remove_item\u001b[1;34m(self)\u001b[0m\n\u001b[0;32m     68\u001b[0m     \u001b[39mprint\u001b[39m(\u001b[39m'\u001b[39m\u001b[39mPlease enter a valid number\u001b[39m\u001b[39m'\u001b[39m)\n\u001b[0;32m     69\u001b[0m \u001b[39mprint\u001b[39m(\u001b[39mf\u001b[39m\u001b[39m'\u001b[39m\u001b[39m\\n\u001b[39;00m\u001b[39m{\u001b[39;00mitem\u001b[39m}\u001b[39;00m\u001b[39m removed!\u001b[39m\u001b[39m\\n\u001b[39;00m\u001b[39m'\u001b[39m)\n\u001b[1;32m---> 70\u001b[0m \u001b[39mself\u001b[39;49m\u001b[39m.\u001b[39;49mrunner()\n",
      "Cell \u001b[1;32mIn[11], line 74\u001b[0m, in \u001b[0;36mShop.runner\u001b[1;34m(self)\u001b[0m\n\u001b[0;32m     72\u001b[0m \u001b[39mdef\u001b[39;00m \u001b[39mrunner\u001b[39m(\u001b[39mself\u001b[39m):\n\u001b[0;32m     73\u001b[0m     \u001b[39mwhile\u001b[39;00m \u001b[39mTrue\u001b[39;00m:\n\u001b[1;32m---> 74\u001b[0m         option \u001b[39m=\u001b[39m \u001b[39mint\u001b[39;49m(\u001b[39minput\u001b[39;49m(\u001b[39m\"\u001b[39;49m\u001b[39mWelcome to Luke\u001b[39;49m\u001b[39m'\u001b[39;49m\u001b[39ms OOP Burger! | 1: Cart | 2: Add | 3: Remove | 4: Exit | :\u001b[39;49m\u001b[39m\"\u001b[39;49m))\n\u001b[0;32m     75\u001b[0m         \u001b[39mif\u001b[39;00m option \u001b[39m==\u001b[39m \u001b[39m1\u001b[39m:\n\u001b[0;32m     76\u001b[0m             \u001b[39mself\u001b[39m\u001b[39m.\u001b[39mshow_cart()\n",
      "\u001b[1;31mValueError\u001b[0m: invalid literal for int() with base 10: ''"
     ]
    },
    {
     "ename": "",
     "evalue": "",
     "output_type": "error",
     "traceback": [
      "\u001b[1;31mThe Kernel crashed while executing code in the the current cell or a previous cell. Please review the code in the cell(s) to identify a possible cause of the failure. Click <a href='https://aka.ms/vscodeJupyterKernelCrash'>here</a> for more info. View Jupyter <a href='command:jupyter.viewOutput'>log</a> for further details."
     ]
    }
   ],
   "source": [
    "class Shop():\n",
    "    def __init__(self):\n",
    "        self.cart = {}\n",
    "        self.menu = {\n",
    "            'Burgers':{\n",
    "                'Classic': 100,\n",
    "                'Diablo': 100\n",
    "                },\n",
    "            'Sides':{\n",
    "                'Fries': 10,\n",
    "                'Salad': 10 \n",
    "            } \n",
    "        }\n",
    "\n",
    "    def show_menu(self):\n",
    "        print(\"     | Luke's MENU |\")\n",
    "        print(\"|--------Burgers--------\")\n",
    "        for i,x in enumerate(self.menu['Burgers'].items()):\n",
    "            print(f'| {i+1}: {x}')\n",
    "        print(\"|--------Sides---------\")\n",
    "        for i,x in enumerate(self.menu['Sides'].items()):\n",
    "            print(f'| {i+3}: {x}')\n",
    "        print('|\\n| 5: Back\\n')\n",
    "\n",
    "    def show_cart(self):\n",
    "        print('\\n----Your Cart-----')\n",
    "        for k,v in self.cart.items():\n",
    "            print(f'| Item: {k}  Price: ${v}')\n",
    "        total = sum(self.cart.values())\n",
    "        print(f'\\nTotal = ${total}\\n')\n",
    "    \n",
    "    def add_item(self):\n",
    "        option = int(input('Select What you would like to Eat: '))\n",
    "        if option == 1:\n",
    "            self.cart['Classic'] = self.menu['Burgers']['Classic']\n",
    "            item = 'Classic'\n",
    "        elif option == 2:\n",
    "            self.cart['Diablo'] = self.menu['Burgers']['Diablo']\n",
    "            item = 'Diablo'\n",
    "        elif option == 3:\n",
    "            self.cart['Fries'] = self.menu['Sides']['Fries']\n",
    "            item = 'Fries'\n",
    "        elif option == 4:\n",
    "            self.cart['Salad'] = self.menu['Sides']['Salad']\n",
    "            item = 'Salad'\n",
    "        elif option == 5:\n",
    "            self.runner()\n",
    "        else:\n",
    "            print('Please enter a valid number')\n",
    "        print(f'\\n{item} added!\\n')\n",
    "        print('--------Want to add anything else?----------')\n",
    "        self.show_menu()\n",
    "        self.add_item()\n",
    "\n",
    "    def remove_item(self):\n",
    "        option = str(input('Type Item to Remove (\"b\" for Back) : ')).lower()\n",
    "        if option == 'classic':\n",
    "            del self.cart['Classic']\n",
    "            item = 'Classic'\n",
    "        elif option == 'diablo':\n",
    "            del self.cart['Diablo']\n",
    "            item = 'Diablo'\n",
    "        elif option == 'fries':\n",
    "            del self.cart['Fries']\n",
    "            item = 'Fries'\n",
    "        elif option == 'salad':\n",
    "            del self.cart['Salad']\n",
    "            item = 'Salad'\n",
    "        elif option == 'b':\n",
    "            self.runner()\n",
    "        else:\n",
    "            print('Please enter a valid number')\n",
    "        print(f'\\n{item} removed!\\n')\n",
    "        print('-------Updated Cart---------')\n",
    "        self.show_cart()\n",
    "        print('--------Want to remove anything else?----------')\n",
    "        self.remove_item()\n",
    "\n",
    "\n",
    "    def runner(self):\n",
    "        while True:\n",
    "            option = int(input(\"Welcome to Luke's Burger! | 1: Cart | 2: Add | 3: Remove | 4: Exit | :\"))\n",
    "            if option == 1:\n",
    "                self.show_cart()\n",
    "            elif option == 2:\n",
    "                self.show_menu()\n",
    "                self.add_item()\n",
    "            elif option == 3:\n",
    "                self.show_cart()\n",
    "                self.remove_item()\n",
    "            elif option == 4:\n",
    "                exit()\n",
    "            else:\n",
    "                print('Please enter a valid number')\n",
    "\n",
    "luke_burger = Shop()\n",
    "luke_burger.runner()"
   ]
  },
  {
   "cell_type": "markdown",
   "metadata": {},
   "source": [
    "### Exercise 2 - Write a Python class which has two methods get_String and print_String. get_String accept a string from the user and print_String print the string in upper case"
   ]
  },
  {
   "cell_type": "code",
   "execution_count": 10,
   "metadata": {},
   "outputs": [
    {
     "name": "stdout",
     "output_type": "stream",
     "text": [
      "Random String\n"
     ]
    }
   ],
   "source": [
    "class Class1():\n",
    "    def __init__(self, string = ''):\n",
    "        self.string = string\n",
    "    \n",
    "    def get_String(self):\n",
    "        self.string = str(input('Enter random string: '))\n",
    "    \n",
    "    def print_String(self):\n",
    "        print(self.string.title())\n",
    "\n",
    "luke = Class1()\n",
    "luke.get_String()\n",
    "luke.print_String()"
   ]
  }
 ],
 "metadata": {
  "kernelspec": {
   "display_name": "Python 3",
   "language": "python",
   "name": "python3"
  },
  "language_info": {
   "codemirror_mode": {
    "name": "ipython",
    "version": 3
   },
   "file_extension": ".py",
   "mimetype": "text/x-python",
   "name": "python",
   "nbconvert_exporter": "python",
   "pygments_lexer": "ipython3",
   "version": "3.11.1"
  },
  "vscode": {
   "interpreter": {
    "hash": "458dd1d06817a72759ca62d766d5a1c58019d69edba750c2eb07d80bb7630974"
   }
  }
 },
 "nbformat": 4,
 "nbformat_minor": 2
}
